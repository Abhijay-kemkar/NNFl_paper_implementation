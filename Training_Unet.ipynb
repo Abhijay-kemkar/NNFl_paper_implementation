{
  "nbformat": 4,
  "nbformat_minor": 0,
  "metadata": {
    "colab": {
      "name": "Training_Unet.ipynb",
      "provenance": [],
      "collapsed_sections": []
    },
    "kernelspec": {
      "name": "python3",
      "display_name": "Python 3"
    },
    "accelerator": "GPU"
  },
  "cells": [
    {
      "cell_type": "code",
      "metadata": {
        "id": "J33Y2BEahobf"
      },
      "source": [
        "#This is the code Unet. This notebook can be used for training the model on both the datasets."
      ],
      "execution_count": null,
      "outputs": []
    },
    {
      "cell_type": "code",
      "metadata": {
        "id": "37-labidhX9w"
      },
      "source": [
        "#imports\n",
        "from keras.models import Model\n",
        "from keras.layers import Input, Cropping2D\n",
        "from keras.layers.convolutional import Conv2D, Conv2DTranspose\n",
        "from keras.layers.pooling import MaxPooling2D\n",
        "from keras.layers.merge import concatenate\n",
        "from keras.models import load_model\n",
        "import keras.backend as K \n",
        "import numpy as np "
      ],
      "execution_count": null,
      "outputs": []
    },
    {
      "cell_type": "code",
      "metadata": {
        "id": "pPwgDzj4XCgL"
      },
      "source": [
        "class Unet():\n",
        "  \"This class is for defining the model\"\n",
        "    def __init__(self):\n",
        "        print(\"Initial U-Net model...\")\n",
        "        self.model = self.initial_model()\n",
        "\n",
        "    def initial_model(self):\n",
        "        concat_axis = 3\n",
        "\n",
        "        inputs = Input((572, 572, 1))\n",
        "        conv1_1 = Conv2D(64, (3, 3), activation='relu', padding='valid', name='conv1_1', kernel_initializer='he_normal')(inputs)\n",
        "        conv1_2 = Conv2D(64, (3, 3), activation='relu', padding='valid', name='conv1_2', kernel_initializer='he_normal')(conv1_1)\n",
        "        pool1 = MaxPooling2D(pool_size=(2, 2), name='maxpooling_1')(conv1_2)\n",
        "\n",
        "        conv2_1 = Conv2D(128, (3, 3), activation='relu', padding='valid', name='conv2_1', kernel_initializer='he_normal')(pool1)\n",
        "        conv2_2 = Conv2D(128, (3, 3), activation='relu', padding='valid', name='conv2_2', kernel_initializer='he_normal')(conv2_1)\n",
        "        pool2 = MaxPooling2D(pool_size=(2, 2), name='maxpooling_2')(conv2_2)\n",
        "\n",
        "        conv3_1 = Conv2D(256, (3, 3), activation='relu', padding='valid', name='conv3_1', kernel_initializer='he_normal')(pool2)\n",
        "        conv3_2 = Conv2D(256, (3, 3), activation='relu', padding='valid', name='conv3_2', kernel_initializer='he_normal')(conv3_1)\n",
        "        pool3 = MaxPooling2D(pool_size=(2, 2), name='maxpooling_3')(conv3_2)\n",
        "\n",
        "        conv4_1 = Conv2D(512, (3, 3), activation='relu', padding='valid', name='conv4_1', kernel_initializer='he_normal')(pool3)\n",
        "        conv4_2 = Conv2D(512, (3, 3), activation='relu', padding='valid', name='conv4_2', kernel_initializer='he_normal')(conv4_1)\n",
        "        pool4 = MaxPooling2D(pool_size=(2, 2), name='maxpooling_4')(conv4_2)\n",
        "\n",
        "        conv5_1 = Conv2D(1024, (3, 3), activation='relu', padding='valid', name='conv5_1', kernel_initializer='he_normal')(pool4)\n",
        "        conv5_2 = Conv2D(1024, (3, 3), activation='relu', padding='valid', name='conv5_2', kernel_initializer='he_normal')(conv5_1)\n",
        "\n",
        "        upsampling1 = Conv2DTranspose(512, (2, 2), strides=(2, 2), padding='valid', name='upsampling1')(conv5_2)\n",
        "        crop_conv4_2 = Cropping2D(cropping=((4, 4), (4, 4)), name='cropped_conv4_2')(conv4_2)\n",
        "        up6 = concatenate([upsampling1, crop_conv4_2], axis=concat_axis, name='skip_connection1')\n",
        "        conv6_1 = Conv2D(512, (3, 3), activation='relu', padding='valid', name='conv6_1', kernel_initializer='he_normal')(up6)\n",
        "        conv6_2 = Conv2D(512, (3, 3), activation='relu', padding='valid', name='conv6_2', kernel_initializer='he_normal')(conv6_1)\n",
        "\n",
        "        upsampling2 = Conv2DTranspose(256, (2, 2), strides=(2, 2), padding='valid', name='upsampling2')(conv6_2)\n",
        "        crop_conv3_2 = Cropping2D(cropping=((16, 16), (16, 16)), name='cropped_conv3_2')(conv3_2)\n",
        "        up7 = concatenate([upsampling2, crop_conv3_2], axis=concat_axis, name='skip_connection2')\n",
        "        conv7_1 = Conv2D(256, (3, 3), activation='relu', padding='valid', name='conv7_1', kernel_initializer='he_normal')(up7)\n",
        "        conv7_2 = Conv2D(256, (3, 3), activation='relu', padding='valid', name='conv7_2', kernel_initializer='he_normal')(conv7_1)\n",
        "\n",
        "        upsampling3 = Conv2DTranspose(128, (2, 2), strides=(2, 2), padding='valid', name='upsampling3')(conv7_2)\n",
        "        crop_conv2_2 = Cropping2D(cropping=((40, 40), (40, 40)), name='cropped_conv2_2')(conv2_2)\n",
        "        up8 = concatenate([upsampling3, crop_conv2_2], axis=concat_axis, name='skip_connection3')\n",
        "        conv8_1 = Conv2D(128, (3, 3), activation='relu', padding='valid', name='conv8_1', kernel_initializer='he_normal')(up8)\n",
        "        conv8_2 = Conv2D(128, (3, 3), activation='relu', padding='valid', name='conv8_2', kernel_initializer='he_normal')(conv8_1)\n",
        "\n",
        "        upsampling4 = Conv2DTranspose(64, (2, 2), strides=(2, 2), padding='valid', name='upsampling4')(conv8_2)\n",
        "        crop_conv1_2 = Cropping2D(cropping=((88, 88), (88, 88)), name='cropped_conv1_2')(conv1_2)\n",
        "        up9 = concatenate([upsampling4, crop_conv1_2], axis=concat_axis, name='skip_connection4')\n",
        "        conv9_1 = Conv2D(64, (3, 3), activation='relu', padding='valid', name='conv9_1', kernel_initializer='he_normal')(up9)\n",
        "        conv9_2 = Conv2D(64, (3, 3), activation='relu', padding='valid', name='conv9_2', kernel_initializer='he_normal')(conv9_1)\n",
        "\n",
        "        conv10 = Conv2D(1, (1, 1), activation='sigmoid', name='conv10', kernel_initializer='he_normal')(conv9_2)\n",
        "\n",
        "        model = Model(inputs=[inputs], outputs=[conv10])\n",
        "        return model\n",
        "\n",
        "    def model_summary(self):\n",
        "        self.model.summary()\n",
        "\n",
        "    def get_model(self):\n",
        "        return self.model"
      ],
      "execution_count": null,
      "outputs": []
    },
    {
      "cell_type": "code",
      "metadata": {
        "id": "MNbAVK-RaDG6"
      },
      "source": [
        "def iou_loss_score(true,pred):  #this is a custom loss which can also be used while training, we are mentiioning it here if anyone wants to try it out\n",
        "    intersection = true * pred\n",
        "    notTrue = 1 - true\n",
        "    union = true + (notTrue * pred)\n",
        "    return (K.sum(intersection, axis=-1) + K.epsilon()) / (K.sum(union, axis=-1) + K.epsilon())"
      ],
      "execution_count": null,
      "outputs": []
    },
    {
      "cell_type": "code",
      "metadata": {
        "colab": {
          "base_uri": "https://localhost:8080/"
        },
        "id": "rTdszt_lY5Xo",
        "outputId": "84aafe51-0339-4be8-e23a-6328ee57e433"
      },
      "source": [
        "unet = Unet()\n",
        "model = unet.initial_model()\n",
        "model.compile(optimizer = 'Adam', loss = 'binary_crossentropy', metrics = ['accuracy']) \n",
        "#model.compile(optimizer = 'SGD', loss = 'binary_crossentropy', metrics = ['accuracy'])         #SGD can also be used as the optimizer though Adam gives better results."
      ],
      "execution_count": null,
      "outputs": [
        {
          "output_type": "stream",
          "text": [
            "Initial U-Net model...\n"
          ],
          "name": "stdout"
        }
      ]
    },
    {
      "cell_type": "code",
      "metadata": {
        "id": "qzWR7xXWZIvB"
      },
      "source": [
        "#loading the .npy files which were saved from data.ipynb\n",
        "image_arr = (np.load('/content/drive/MyDrive/nnfl_final_data/imgs_train2.npy'))\n",
        "tmp_mask = (np.load('/content/drive/MyDrive/nnfl_final_data/imgs_mask_train2.npy'))"
      ],
      "execution_count": null,
      "outputs": []
    },
    {
      "cell_type": "code",
      "metadata": {
        "id": "tyt4Edb2aNI5"
      },
      "source": [
        "history = model.fit(image_arr, tmp_mask, batch_size=5, epochs=5, verbose=1)    #training of the model"
      ],
      "execution_count": null,
      "outputs": []
    },
    {
      "cell_type": "code",
      "metadata": {
        "id": "RE_XVTXjaUbs"
      },
      "source": [
        "model.save('/content/drive/MyDrive/nnfl_final_data/fmodel.h5')   #saving the trained model"
      ],
      "execution_count": null,
      "outputs": []
    },
    {
      "cell_type": "code",
      "metadata": {
        "id": "glTQlkd81sML"
      },
      "source": [
        "model = load_model('/content/drive/MyDrive/nnfl_final_data/full_data_10_model.h5')   #loading the model for inference "
      ],
      "execution_count": null,
      "outputs": []
    },
    {
      "cell_type": "code",
      "metadata": {
        "id": "kl1AI2pCmmua"
      },
      "source": [
        "#plotting the accuracy v/s epoch graph\n",
        "plt.plot(history.history['acc'])\n",
        "plt.title('model accuracy')\n",
        "plt.ylabel('accuracy')\n",
        "plt.xlabel('epoch')\n",
        "plt.legend(['train'], loc='upper left')\n",
        "plt.show()\n",
        "from google.colab import files\n",
        "plt.savefig(\"ResUnet_model_accuracy_adam.png\")\n",
        "files.download(\"ResUnet_model_accuracy_adam.png\") "
      ],
      "execution_count": null,
      "outputs": []
    },
    {
      "cell_type": "code",
      "metadata": {
        "id": "AQMQ6qx4mnrf"
      },
      "source": [
        "#plotting the loss v/s epoch graph\n",
        "plt.plot(history.history['loss'])\n",
        "plt.title('model loss')\n",
        "plt.ylabel('loss')\n",
        "plt.xlabel('epoch')\n",
        "plt.legend(['train'], loc='upper left')\n",
        "plt.show()\n",
        "from google.colab import files\n",
        "plt.savefig(\"ResUnet_model_loss_adam.png\")\n",
        "files.download(\"ResUnet_model_loss_adam.png\") "
      ],
      "execution_count": null,
      "outputs": []
    }
  ]
}